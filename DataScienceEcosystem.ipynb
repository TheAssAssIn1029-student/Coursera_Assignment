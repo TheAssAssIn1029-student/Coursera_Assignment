{
  "metadata": {
    "kernelspec": {
      "name": "python",
      "display_name": "Python (Pyodide)",
      "language": "python"
    },
    "language_info": {
      "codemirror_mode": {
        "name": "python",
        "version": 3
      },
      "file_extension": ".py",
      "mimetype": "text/x-python",
      "name": "python",
      "nbconvert_exporter": "python",
      "pygments_lexer": "ipython3",
      "version": "3.8"
    }
  },
  "nbformat_minor": 5,
  "nbformat": 4,
  "cells": [
    {
      "id": "bb304e19-5d65-4fa2-aaf8-af2ad9042071",
      "cell_type": "markdown",
      "source": "# Data Science Tools and Ecosystems",
      "metadata": {}
    },
    {
      "id": "b631e1f5-f8fb-457f-a1cc-40ac86c2c5e9",
      "cell_type": "markdown",
      "source": "In this notebook, Data Science Tools and Ecosystem are summarized.",
      "metadata": {}
    },
    {
      "id": "5399c80a-1995-47c1-9dda-53c58592c8e5",
      "cell_type": "markdown",
      "source": "**Objectives:**\n- List popular languages used for data science.\n- List commonly used libraries for data science.\n- List Data Science tools\n- Examples of arithmetic Evaluations",
      "metadata": {}
    },
    {
      "id": "547fa769-2144-4531-8134-feacb4fddb2b",
      "cell_type": "markdown",
      "source": "Some of the popular languages that Data Scientists use are:\n1. Python\n2. Scala\n3. R Language",
      "metadata": {}
    },
    {
      "id": "e9981179-3fe4-4d24-9e68-fffb0fd99f25",
      "cell_type": "markdown",
      "source": "Some of the commonly used libraries used by Data Scientists include:\n1. Matplotlib\n2. Pandas\n3. NumPy",
      "metadata": {}
    },
    {
      "id": "a8a1777c-4d31-4607-8d1d-73ad6875a36c",
      "cell_type": "markdown",
      "source": "|Data Science Tools|\n|-|\n|JupyterLabs|\n|R Studio|\n|Apache Hadoop|",
      "metadata": {}
    },
    {
      "id": "28f2fa16-201c-44ae-ba94-4357daaa2b11",
      "cell_type": "markdown",
      "source": "### Below are a few examples of evaluating arithmetic expressions in Python:",
      "metadata": {}
    },
    {
      "id": "9a9fe3bd-0e3f-407a-85e0-0979040514cc",
      "cell_type": "code",
      "source": "# This a simple arithmetic expression to mutiply then add integers\n\n(3*4)+5",
      "metadata": {
        "trusted": true
      },
      "outputs": [
        {
          "execution_count": 2,
          "output_type": "execute_result",
          "data": {
            "text/plain": "17"
          },
          "metadata": {}
        }
      ],
      "execution_count": 2
    },
    {
      "id": "3318fba0-0a01-47a7-84d7-70d4d1615af5",
      "cell_type": "code",
      "source": "# This will convert 200 minutes to hours by diving by 60\n\n200/60",
      "metadata": {
        "trusted": true
      },
      "outputs": [
        {
          "execution_count": 7,
          "output_type": "execute_result",
          "data": {
            "text/plain": "3.3333333333333335"
          },
          "metadata": {}
        }
      ],
      "execution_count": 7
    },
    {
      "id": "f08d8206-33ef-4e70-b69b-9ddac05bdc70",
      "cell_type": "code",
      "source": "",
      "metadata": {
        "trusted": true
      },
      "outputs": [],
      "execution_count": null
    }
  ]
}